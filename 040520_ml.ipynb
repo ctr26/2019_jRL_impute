{
 "cells": [
  {
   "cell_type": "code",
   "execution_count": null,
   "metadata": {
    "jupyter": {
     "source_hidden": true
    }
   },
   "outputs": [],
   "source": [
    "import keras\n",
    "import numpy as np\n",
    "import matplotlib.pyplot as plt\n",
    "\n",
    "from sklearn import metrics, preprocessing\n",
    "from sklearn import pipeline, model_selection\n",
    "\n",
    "# from keras import backend as K\n",
    "from scipy.stats import pearsonr\n",
    "# from sklearn import svm, linear_model\n",
    "# import numpy as np\n",
    "# import matplotlib.pyplot as plt\n",
    "# import microscPSF.microscPSF as msPSF\n",
    "# import PIL\n",
    "import scipy\n",
    "\n",
    "# from scipy import matrix\n",
    "# from scipy.sparse import coo_matrix\n",
    "# import time\n",
    "# from scipy import linalg\n",
    "# from skimage import color, data, restoration\n",
    "# from skimage.transform import rescale, resize, downscale_local_mean\n",
    "# from scipy.signal import convolve2d as conv2\n",
    "# import matlab.engine\n",
    "# import pandas as pd\n",
    "\n",
    "# import keras\n",
    "from keras import metrics\n",
    "from keras.models import Sequential\n",
    "from keras.wrappers.scikit_learn import KerasRegressor\n",
    "from keras.layers import Dense, Dropout, Activation, Convolution1D, Flatten, Conv1D, UpSampling1D, InputLayer, UpSampling2D, Conv2D, Reshape, Input, LeakyReLU, MaxPooling2D\n",
    "from keras.wrappers.scikit_learn import KerasClassifier, KerasRegressor\n",
    "from sklearn.model_selection import StratifiedKFold\n",
    "from sklearn.model_selection import cross_val_score, cross_validate\n",
    "from keras.optimizers import SGD\n",
    "from keras.utils import to_categorical\n",
    "from PIL import Image\n",
    "\n",
    "from sklearn.preprocessing import StandardScaler\n",
    "\n",
    "\n",
    "# from sklearn.preprocessing import Imputer\n",
    "# from sklearn.experimental import enable_iterative_imputer\n",
    "# from sklearn.impute import IterativeImputer\n",
    "# from sklearn.experimental import enable_iterative_imputer\n",
    "# from scipy import signal\n",
    "# from sklearn.impute import SimpleImputer\n",
    "\n",
    "# import os\n",
    "\n",
    "# x,y,image_x,image_y"
   ]
  },
  {
   "cell_type": "markdown",
   "metadata": {},
   "source": [
    "# Machine learning for $\\mathbf{H}$\n",
    "## Load PSF data\n",
    "\n",
    "Load psf_window"
   ]
  },
  {
   "cell_type": "code",
   "execution_count": null,
   "metadata": {},
   "outputs": [],
   "source": [
    "psf_window_volume_nuked = np.load('data/psf_window_volume_nuked.npy')\n",
    "psf_window_volume = np.load('data/psf_window_volume.npy')"
   ]
  },
  {
   "cell_type": "code",
   "execution_count": 54,
   "metadata": {},
   "outputs": [],
   "source": [
    "astro_shape = (128,128)\n",
    "psf_window_shape = (16,16)\n",
    "BUILD_MODEL = 1"
   ]
  },
  {
   "cell_type": "markdown",
   "metadata": {},
   "source": [
    "Load $\\mathbf{H}$"
   ]
  },
  {
   "cell_type": "code",
   "execution_count": null,
   "metadata": {},
   "outputs": [],
   "source": [
    "measurement_matrix_4d_nuked = np.load('data/measurement_matrix_4d_nuked.npy')\n",
    "measurement_matrix_4d = np.load('data/measurement_matrix_4d.npy')\n",
    "\n",
    "# np.sum(np.isfinite(measurement_matrix_3d_nuked[:,0,0]))"
   ]
  },
  {
   "cell_type": "code",
   "execution_count": 19,
   "metadata": {},
   "outputs": [],
   "source": [
    "measurement_matrix_3d_nuked = measurement_matrix_4d_nuked.reshape([-1,*astro_shape])\n",
    "measurement_matrix_3d = np.reshape(measurement_matrix_4d, [-1, *astro_shape])\n",
    "\n",
    "measurement_matrix_nuked = measurement_matrix_4d_nuked.reshape(-1,*astro_shape)\n",
    "measurement_matrix = measurement_matrix_4d.reshape([-1,*astro_shape])"
   ]
  },
  {
   "cell_type": "code",
   "execution_count": 63,
   "metadata": {},
   "outputs": [],
   "source": [
    "# measurement_matrix_a = np.reshape(measurement_matrix_4d,[128,128,128,128])\n",
    "\n",
    "# plt.imshow(measurement_matrix_a[64,64,:,:])\n",
    "# plt.imshow(np.reshape(measurement_matrix[0], (128, 128)))\n",
    "\n",
    "#%% Regress full PSF model\n",
    "# coords"
   ]
  },
  {
   "cell_type": "markdown",
   "metadata": {},
   "source": [
    "Massage data into ML friendly format"
   ]
  },
  {
   "cell_type": "code",
   "execution_count": 9,
   "metadata": {},
   "outputs": [],
   "source": [
    "def nd_scaler(x): return StandardScaler().fit_transform(\n",
    "    x.reshape(x.shape[0],-1)).reshape(x.shape)\n",
    "\n",
    "coords = np.array(np.unravel_index(\n",
    "                        np.arange(0, measurement_matrix_nuked[0].size),\n",
    "                        measurement_matrix_4d_nuked.shape[0:2])).T;coords.shape\n",
    "\n",
    "y_values = measurement_matrix_nuked\n",
    "y_ground_truth = measurement_matrix\n",
    "\n",
    "\n",
    "coords_nuked = np.array(np.unravel_index(\n",
    "                        np.arange(0, y_values[0].size),\n",
    "                        y_values.shape[0:2])).T;coords_nuked.shape\n",
    "\n",
    "x_indices = coords_nuked\n",
    "\n",
    "# plt.imshow(y_values)\n",
    "nuked_finite_rows = np.any(np.isfinite(y_values), axis=1)\n",
    "\n",
    "x_indices_clean = x_indices[nuked_finite_rows];x_indices_clean.shape\n",
    "y_values_clean = y_values[nuked_finite_rows];y_values_clean.shape\n",
    "\n",
    "y_values_2d_clean_128 = measurement_matrix_3d_nuked[nuked_finite_rows];y_values_2d_clean_128.shape\n",
    "y_values_2d_clean_128_scaled = nd_scaler(measurement_matrix_3d_nuked[nuked_finite_rows]);y_values_2d_clean_128.shape\n",
    "\n",
    "y_ground_truth_2d_128 = measurement_matrix_3d\n",
    "\n",
    "y_values_2d_clean = psf_window_volume_nuked[nuked_finite_rows];y_values_2d_clean.shape\n",
    "y_values_2d_clean_scaled = nd_scaler(y_values_2d_clean);y_values_2d_clean_scaled.shape\n",
    "\n",
    "y_ground_truth_2d = psf_window_volume;y_ground_truth_2d.shape\n",
    "\n",
    "y_values_2d_clean = psf_window_volume_nuked[nuked_finite_rows];y_values_2d_clean.shape\n",
    "y_ground_truth_2d_scaled = nd_scaler(y_ground_truth_2d);y_ground_truth_2d_scaled.shape\n",
    "\n",
    "x_indices_clean_scaled = preprocessing.scale(x_indices_clean);x_indices_clean_scaled.shape\n",
    "x_indices_scaled = preprocessing.scale(x_indices);x_indices_scaled.shape\n",
    "\n",
    "# y_values_2d_clean_scaled = preprocessing.scale(y_values_2d_clean)\n",
    "y_values_clean_scaled = preprocessing.scale(y_values_clean)\n",
    "y_ground_truth_scaled = preprocessing.scale(y_ground_truth)\n",
    "\n",
    "x_test = x_indices_scaled"
   ]
  },
  {
   "cell_type": "code",
   "execution_count": 64,
   "metadata": {},
   "outputs": [],
   "source": [
    "# y_ground_truth_2d_clean = measurement_matrix_3d;y_ground_truth_2d_clean.shape\n",
    "# y_ground_truth.shape\n",
    "# np.unravel_index(i, astro.shape)\n",
    "# np.ravel_multi_index((64,64),astro_shape)"
   ]
  },
  {
   "cell_type": "code",
   "execution_count": 57,
   "metadata": {},
   "outputs": [
    {
     "data": {
      "image/png": "[encoded data removed]",
      "text/plain": [
       "<Figure size 1152x504 with 10 Axes>"
      ]
     },
     "metadata": {
      "needs_background": "light"
     },
     "output_type": "display_data"
    }
   ],
   "source": [
    "index_from_coord = np.ravel_multi_index((64,64),astro_shape)\n",
    "fig,ax = plt.subplots(ncols=5,nrows=2,figsize=(16,7))\n",
    "centre = np.array([64,64])\n",
    "for i,index in enumerate([centre*[1,1],centre*[0.75,0.75],centre*[1.25,1.25],centre*[0.75,1.25],centre*[1.25,0.75]]):\n",
    "    index_from_coord = round(np.ravel_multi_index(index.astype(np.int),astro_shape))\n",
    "    ax[0,i].imshow(np.reshape(y_ground_truth[index_from_coord],astro_shape))\n",
    "    ax[1,i].imshow(np.reshape(y_ground_truth_2d[index_from_coord],psf_window_shape))"
   ]
  },
  {
   "cell_type": "markdown",
   "metadata": {},
   "source": [
    "## Model building"
   ]
  },
  {
   "cell_type": "markdown",
   "metadata": {},
   "source": [
    "###  Multilayer perceptron | (x,y) in PSF out | Fails to converge"
   ]
  },
  {
   "cell_type": "code",
   "execution_count": null,
   "metadata": {},
   "outputs": [],
   "source": [
    "def keras_model_fc():\n",
    "    model = Sequential()\n",
    "    model.add(Dense(128, activation='relu'))\n",
    "    model.add(Dropout(0.5))\n",
    "    model.add(Dense(64, activation='relu'))\n",
    "    model.add(Dropout(0.5))\n",
    "    model.add(Dense(1, activation='relu'))\n",
    "    model.compile(loss='mean_squared_error',\n",
    "                  optimizer='adam',\n",
    "                  metrics=['accuracy'])\n",
    "    return model"
   ]
  },
  {
   "cell_type": "markdown",
   "metadata": {},
   "source": [
    "###  Multilayer perceptron using convs (found in a paper) | (x,y) in PSF out | Fails to converge,"
   ]
  },
  {
   "cell_type": "code",
   "execution_count": 60,
   "metadata": {},
   "outputs": [],
   "source": [
    "def keras_model_cov():\n",
    "    model = Sequential()\n",
    "    model.add(InputLayer(input_shape=x_indices_clean_scaled.shape))\n",
    "    model.add(Conv1D(filters=16, kernel_size=1, activation='relu'))\n",
    "    model.add(UpSampling1D(size=2))\n",
    "    model.add(Conv1D(filters=16, kernel_size=1, activation='relu'))\n",
    "    # model.add(UpSampling1D(size=2))\n",
    "    # model.add(Conv1D(filters=16, kernel_size=1, activation='relu'))\n",
    "    # model.add(UpSampling1D(size=2))\n",
    "    # model.add(Conv1D(filters=16, kernel_size=1, activation='relu'))\n",
    "    model.add(UpSampling1D(size=2))\n",
    "    model.add(Dense(256, activation='relu'))\n",
    "    # model.add(Dropout(0.5))\n",
    "    # model.add(Dense(256, activation='relu'))\n",
    "    model.compile(loss='mean_squared_error',\n",
    "                  optimizer='adam',\n",
    "                  metrics=['accuracy'])\n",
    "    return model"
   ]
  },
  {
   "cell_type": "markdown",
   "metadata": {},
   "source": [
    "### Larger version | (x,y) in PSF out | Converges but cheats by making all the PSFs the same"
   ]
  },
  {
   "cell_type": "code",
   "execution_count": 66,
   "metadata": {},
   "outputs": [],
   "source": [
    "if(BUILD_MODEL):\n",
    "    def keras_model_cov1d():\n",
    "        model = keras.models.Sequential()\n",
    "        layer_shape = 2\n",
    "        model.add(Dense(2, input_dim=layer_shape))\n",
    "        model.add(LeakyReLU(alpha=0.05))\n",
    "        # model.add(Reshape((layer_shape, 1, 1)))\n",
    "        # model.add(Flatten())\n",
    "        for i in np.arange(0, 12):\n",
    "            model.add(Reshape((layer_shape, 1, 1)))\n",
    "            model.add(UpSampling2D(size=(2, 1)))\n",
    "            model.add(Reshape((layer_shape * 2, 1)))\n",
    "            model.add(Conv1D(filters=1, kernel_size=2, activation='relu'))\n",
    "            model.add(Flatten())\n",
    "            # model.add(Dropout(0.5))\n",
    "\n",
    "            layer_shape = layer_shape * 2 - 1\n",
    "        model.add(Dense(128))\n",
    "        model.add(Dropout(0.2))\n",
    "        model.add(Dense(128 * 128))\n",
    "        model.add(LeakyReLU(alpha=0.05))\n",
    "        model.add(Dropout(0.2))\n",
    "        # model.add(Flatten())\n",
    "        # model.add(Dropout(0.5))\n",
    "        # model.add(Dense(100, activation='relu'))\n",
    "        model.compile(loss='mean_squared_error',\n",
    "                      optimizer='adam',\n",
    "                      metrics=[metrics.mae, metrics.accuracy])\n",
    "        # loss = keras.optimizers.Adadelta()\n",
    "        # model.compile(loss='mean_squared_error',\n",
    "        #               optimizer=loss,\n",
    "        #               metrics=['accuracy'])\n",
    "        model.compile(loss='logcosh',\n",
    "                      optimizer='sgd',\n",
    "                      metrics=['accuracy'])\n",
    "        model.build()\n",
    "        return model"
   ]
  },
  {
   "cell_type": "markdown",
   "metadata": {},
   "source": [
    "###  2D conv net \n",
    "Image with a pixel on, at the respective coordinate in the out PSF\n",
    "\n",
    "Converges but cheats by making all the PSFs the same"
   ]
  },
  {
   "cell_type": "code",
   "execution_count": 68,
   "metadata": {},
   "outputs": [],
   "source": [
    "if(BUILD_MODEL):\n",
    "    def keras_model_cov2d(layer_shape=2, output_size=128):\n",
    "        iterations = np.log2(output_size) - 1\n",
    "        model = keras.models.Sequential()\n",
    "        model.add(Dense(128, input_dim=layer_shape))\n",
    "        model.add(LeakyReLU(alpha=0.05))\n",
    "        model.add(Dense(2))\n",
    "        # model.add(Conv2D(filters=2, kernel_size=2, activation='relu'))\n",
    "        model.add(Reshape((layer_shape, 1, 1)))\n",
    "        model.add(UpSampling2D(size=(1, 2)))\n",
    "        for i in np.arange(0, iterations):\n",
    "            model.add(UpSampling2D(size=(4, 4)))\n",
    "            # model.add(Conv2D(filters=2, kernel_size=2, activation='relu'))\n",
    "            model.add(Conv2D(32, 3, activation='relu',\n",
    "                             padding='same', kernel_initializer='he_normal'))\n",
    "            model.add(LeakyReLU(alpha=0.05))\n",
    "            model.add(Conv2D(32, 3, activation='relu',\n",
    "                          padding='same', kernel_initializer='he_normal'))\n",
    "            model.add(MaxPooling2D(pool_size=(2, 2)))\n",
    "            model.add(Dropout(0.5))\n",
    "        # model.add(MaxPooling2D(pool_size=(128/9, 128/9)))\n",
    "        model.add(Conv2D(32, 3, activation='relu',\n",
    "                         padding='same', kernel_initializer='he_normal'))\n",
    "        model.add(Conv2D(2, 3, activation='relu', padding='same',\n",
    "                         kernel_initializer='he_normal'))\n",
    "        model.add(Conv2D(1, 1, activation='sigmoid'))\n",
    "        model.add(Reshape((output_size, output_size)))\n",
    "        model.summary()\n",
    "        model.compile(loss='mean_squared_error',\n",
    "                      optimizer='adam',\n",
    "                      metrics=[metrics.mae, metrics.accuracy])\n",
    "        model.build()\n",
    "        return model"
   ]
  },
  {
   "cell_type": "code",
   "execution_count": null,
   "metadata": {
    "jupyter": {
     "source_hidden": true
    }
   },
   "outputs": [],
   "source": [
    "classifiers = [\n",
    "    # svm.SVR(),\n",
    "    # neural_network.MLPRegressor(hidden_layer_sizes=(64,64),\n",
    "    #                             verbose=True),\n",
    "    # neighbors.KNeighborsRegressor(),\n",
    "    KerasRegressor(build_fn=keras_model_cov, epochs=100,\n",
    "                   nb_epoch=100, batch_size=64, verbose=1),\n",
    "    KerasRegressor(build_fn=keras_model_fc, epochs=100,\n",
    "                   nb_epoch=100, batch_size=64, verbose=1)\n",
    "    # svm.SVR(),\n",
    "    # gaussian_process.GaussianProcessRegressor(),\n",
    "    # linear_model.SGDRegressor(),\n",
    "    # linear_model.BayesianRidge(),\n",
    "    # linear_model.LassoLars(),\n",
    "    # linear_model.ARDRegression(),\n",
    "    # linear_model.PassiveAggressiveRegressor(),\n",
    "    # linear_model.TheilSenRegressor(),\n",
    "    # linear_model.LinearRegression()\n",
    "]\n",
    "\n",
    "# Need to invert scaling\n",
    "\n",
    "batch_size = 1"
   ]
  },
  {
   "cell_type": "code",
   "execution_count": null,
   "metadata": {
    "jupyter": {
     "source_hidden": true
    }
   },
   "outputs": [],
   "source": [
    "# (*x_indices_scaled.shape,1)\n",
    "# histor = the_model.fit(x_indices_clean_scaled, y_values_clean_2d_scaled)\n",
    "# x_indices_scaled.shape\n",
    "\n",
    "# samples = x_indices_scaled.shape[0]\n",
    "# feature_size = 3\n",
    "\n",
    "# x = np.expand_dims(x_indices_scaled, -1)\n",
    "\n",
    "# BUILD_MODEL = 1\n",
    "layer_shape = 2\n",
    "output_size =128"
   ]
  },
  {
   "cell_type": "code",
   "execution_count": null,
   "metadata": {
    "jupyter": {
     "source_hidden": true
    }
   },
   "outputs": [],
   "source": [
    "# if(BUILD_MODEL):\n",
    "model = keras_model_cov1d()\n",
    "model = keras_model_cov2d(output_size=16)\n",
    "epochs = 10\n",
    "seed = 7\n",
    "# scikit_model = KerasClassifier(build_fn=model, epochs=epochs, batch_size=batch_size)\n",
    "# x_indices_clean_scaled.shape\n",
    "# kfold = StratifiedKFold(n_splits=10, shuffle=True, random_state=seed)\n",
    "# results = cross_validate(scikit_model, x_indices_clean_scaled, y_values_2d_clean, cv=kfold)\n",
    "\n",
    "# model.summary()\n",
    "# plt.imshow(y_values_2d_clean_scaled[0])\n",
    "\n",
    "# model.fit(x_indices_clean, y_values_2d_clean_scaled,\n",
    "#           # validation_data=(x_test, y_ground_truth_2d_scaled),\n",
    "#           batch_size=batch_size,\n",
    "#           epochs=epochs)\n",
    "#\n",
    "# model.save('keras_model_cov2d_flat_2.h5')\n",
    "\n",
    "# y_predictions = model.predict(x_test)\n",
    "# score = model.evaluate(x=x_test, y=y_ground_truth_2d_scaled, verbose=1)\n",
    "\n",
    "# plt.imshow(np.sum(y_values_2d_clean, axis=0))\n",
    "# plt.imshow(np.sum(y_ground_truth_2d_scaled[nuked_finite_rows], axis=0))\n",
    "# plt.imshow(np.sum(y_predictions[nuked_finite_rows], axis=0))\n",
    "#\n",
    "#\n",
    "# plt.imshow(y_predictions[64 * 64])"
   ]
  },
  {
   "cell_type": "markdown",
   "metadata": {},
   "source": [
    "<p float=\"center\">\n",
    "    <img src=\"care_model.png\" width=\"500\"/>\n",
    "</p>\n"
   ]
  },
  {
   "cell_type": "markdown",
   "metadata": {},
   "source": [
    "### CARE MODEL\n",
    "U-net conv net for \"image restoration\", converges but produces a static PSF"
   ]
  },
  {
   "cell_type": "code",
   "execution_count": 70,
   "metadata": {},
   "outputs": [],
   "source": [
    "from csbdeep.utils import axes_dict, plot_some, plot_history\n",
    "from csbdeep.utils.tf import limit_gpu_memory\n",
    "from csbdeep.io import load_training_data\n",
    "from csbdeep.models import Config, IsotropicCARE,CARE\n",
    "from csbdeep.utils import download_and_extract_zip_file, axes_dict, plot_some, plot_history\n",
    "\n",
    "from PIL import Image"
   ]
  },
  {
   "cell_type": "markdown",
   "metadata": {},
   "source": [
    "Create array of images with a spot at respective coordinate"
   ]
  },
  {
   "cell_type": "code",
   "execution_count": 86,
   "metadata": {},
   "outputs": [
    {
     "data": {
      "image/png": "[encoded data removed]",
      "text/plain": [
       "<Figure size 1152x504 with 5 Axes>"
      ]
     },
     "metadata": {
      "needs_background": "light"
     },
     "output_type": "display_data"
    }
   ],
   "source": [
    "delta_array = np.zeros((coords.shape[0],128,128))\n",
    "\n",
    "for i in np.arange(0,coords.shape[0]):\n",
    "    delta_array[i,coords[i,0],coords[i,1]] = 1\n",
    "\n",
    "index_from_coord = np.ravel_multi_index((64,64),astro_shape)\n",
    "fig,ax = plt.subplots(ncols=5,nrows=1,figsize=(16,7))\n",
    "centre = np.array([64,64])\n",
    "for i,index in enumerate([centre*[1,1],centre*[0.75,0.75],centre*[1.25,1.25],centre*[0.75,1.25],centre*[1.25,0.75]]):\n",
    "    index_from_coord = round(np.ravel_multi_index(index.astype(np.int),astro_shape))\n",
    "#     ax[0,i].imshow(np.reshape(y_ground_truth[index_from_coord],astro_shape))\n",
    "#     ax[1,i].imshow(np.reshape(y_ground_truth_2d[index_from_coord],psf_window_shape))    \n",
    "    ax[i].imshow(delta_array[index_from_coord])"
   ]
  },
  {
   "cell_type": "markdown",
   "metadata": {},
   "source": [
    "Remove PSFs randomly:"
   ]
  },
  {
   "cell_type": "code",
   "execution_count": 79,
   "metadata": {},
   "outputs": [],
   "source": [
    "## Find threshold of where model fsails to converge\n",
    "delta_array_nuked = delta_array[nuked_finite_rows]"
   ]
  },
  {
   "cell_type": "markdown",
   "metadata": {},
   "source": [
    "Massage arrays for CARE to be able to read (1 extra dimension for colour that we don't use):"
   ]
  },
  {
   "cell_type": "code",
   "execution_count": 82,
   "metadata": {},
   "outputs": [
    {
     "data": {
      "text/plain": [
       "(16384, 128, 128, 1)"
      ]
     },
     "execution_count": 82,
     "metadata": {},
     "output_type": "execute_result"
    }
   ],
   "source": [
    "X = np.expand_dims(delta_array_nuked, -1);X.shape\n",
    "Y = np.expand_dims(y_values_2d_clean_128,-1);Y.shape\n",
    "X_val = np.expand_dims(delta_array,-1);X_val.shape\n",
    "Y_val = np.expand_dims(y_ground_truth_2d_128,-1);Y_val.shape"
   ]
  },
  {
   "cell_type": "code",
   "execution_count": null,
   "metadata": {
    "jupyter": {
     "source_hidden": true
    }
   },
   "outputs": [],
   "source": [
    "# plt.imshow(y_ground_truth_2d_128[int((128*128)/2 + 128/2)])\n",
    "\n",
    "# im = Image.fromarray(y_values_2d_clean_128[600]).convert(\"RGB\")\n",
    "# im.show()\n",
    "# plt.imshow(y_values_2d_clean[500])\n",
    "\n",
    "\n",
    "# download_and_extract_zip_file (\n",
    "#     url       = 'http://csbdeep.bioimagecomputing.com/example_data/synthetic_disks.zip',\n",
    "#     targetdir = 'data',\n",
    "# )\n",
    "# (_,_), (_,_), axes = load_training_data('data/synthetic_disks/data.npz', validation_split=0.1, verbose=True)"
   ]
  },
  {
   "cell_type": "code",
   "execution_count": 83,
   "metadata": {},
   "outputs": [
    {
     "name": "stdout",
     "output_type": "stream",
     "text": [
      "Config(axes='YXC', n_channel_in=1, n_channel_out=1, n_dim=2, probabilistic=True, train_batch_size=16, train_checkpoint='weights_best.h5', train_checkpoint_epoch='weights_now.h5', train_checkpoint_last='weights_last.h5', train_epochs=100, train_learning_rate=0.0004, train_loss='laplace', train_reduce_lr={'factor': 0.5, 'patience': 10, 'min_delta': 0}, train_steps_per_epoch=30, train_tensorboard=True, unet_input_shape=(None, None, 1), unet_kern_size=5, unet_last_activation='linear', unet_n_depth=2, unet_n_first=32, unet_residual=True)\n"
     ]
    },
    {
     "data": {
      "text/plain": [
       "{'n_dim': 2,\n",
       " 'axes': 'YXC',\n",
       " 'n_channel_in': 1,\n",
       " 'n_channel_out': 1,\n",
       " 'train_checkpoint': 'weights_best.h5',\n",
       " 'train_checkpoint_last': 'weights_last.h5',\n",
       " 'train_checkpoint_epoch': 'weights_now.h5',\n",
       " 'probabilistic': True,\n",
       " 'unet_residual': True,\n",
       " 'unet_n_depth': 2,\n",
       " 'unet_kern_size': 5,\n",
       " 'unet_n_first': 32,\n",
       " 'unet_last_activation': 'linear',\n",
       " 'unet_input_shape': (None, None, 1),\n",
       " 'train_loss': 'laplace',\n",
       " 'train_epochs': 100,\n",
       " 'train_steps_per_epoch': 30,\n",
       " 'train_learning_rate': 0.0004,\n",
       " 'train_batch_size': 16,\n",
       " 'train_tensorboard': True,\n",
       " 'train_reduce_lr': {'factor': 0.5, 'patience': 10, 'min_delta': 0}}"
      ]
     },
     "execution_count": 83,
     "metadata": {},
     "output_type": "execute_result"
    },
    {
     "data": {
      "image/png": "[encoded data removed]",
      "text/plain": [
       "<Figure size 432x288 with 10 Axes>"
      ]
     },
     "metadata": {
      "needs_background": "light"
     },
     "output_type": "display_data"
    }
   ],
   "source": [
    "axes = 'SYXC'\n",
    "c = axes_dict(axes)['C'];c\n",
    "n_channel_in, n_channel_out = X.shape[c], Y.shape[c]\n",
    "\n",
    "# plt.figure(figsize=(12,5))\n",
    "plot_some(X_val[:5],Y_val[:5])\n",
    "plt.suptitle('5 example validation patches (top row: source, bottom row: target)');\n",
    "config = Config(axes, n_channel_in, n_channel_out, probabilistic=True, train_steps_per_epoch=30)\n",
    "print(config)\n",
    "vars(config)"
   ]
  },
  {
   "cell_type": "code",
   "execution_count": null,
   "metadata": {
    "jupyter": {
     "source_hidden": true
    }
   },
   "outputs": [],
   "source": [
    "# axes ='XY'\n",
    "# config = Config(axes, 1, 1, train_steps_per_epoch=30)"
   ]
  },
  {
   "cell_type": "code",
   "execution_count": 84,
   "metadata": {},
   "outputs": [
    {
     "name": "stderr",
     "output_type": "stream",
     "text": [
      "/homes/ctr26/miniconda3/envs/py37/lib/python3.7/site-packages/csbdeep/models/base_model.py:134: UserWarning: output path for model already exists, files may be overwritten: /homes/ctr26/gdrive/+projects/2019_jrl/2019_jRL_impute/models/my_model\n",
      "  warnings.warn('output path for model already exists, files may be overwritten: %s' % str(self.logdir.resolve()))\n"
     ]
    },
    {
     "name": "stdout",
     "output_type": "stream",
     "text": [
      "WARNING:tensorflow:From /homes/ctr26/miniconda3/envs/py37/lib/python3.7/site-packages/tensorflow/python/ops/resource_variable_ops.py:435: colocate_with (from tensorflow.python.framework.ops) is deprecated and will be removed in a future version.\n",
      "Instructions for updating:\n",
      "Colocations handled automatically by placer.\n",
      "WARNING:tensorflow:From /homes/ctr26/miniconda3/envs/py37/lib/python3.7/site-packages/tensorflow/python/ops/math_ops.py:3066: to_int32 (from tensorflow.python.ops.math_ops) is deprecated and will be removed in a future version.\n",
      "Instructions for updating:\n",
      "Use tf.cast instead.\n",
      "\n",
      "WARNING: The TensorFlow contrib module will not be included in TensorFlow 2.0.\n",
      "For more information, please see:\n",
      "  * https://github.com/tensorflow/community/blob/master/rfcs/20180907-contrib-sunset.md\n",
      "  * https://github.com/tensorflow/addons\n",
      "If you depend on functionality not listed there, please file an issue.\n",
      "\n",
      "WARNING:tensorflow:From /homes/ctr26/miniconda3/envs/py37/lib/python3.7/site-packages/tensorflow/contrib/distributions/python/ops/sample_stats.py:307: to_double (from tensorflow.python.ops.math_ops) is deprecated and will be removed in a future version.\n",
      "Instructions for updating:\n",
      "Use tf.cast instead.\n",
      "Epoch 1/100\n",
      " 6/30 [=====>........................] - ETA: 11:25 - loss: 0.3460 - mse: 0.0126 - mae: 0.0139"
     ]
    },
    {
     "ename": "KeyboardInterrupt",
     "evalue": "",
     "output_type": "error",
     "traceback": [
      "\u001b[0;31m---------------------------------------------------------------------------\u001b[0m",
      "\u001b[0;31mKeyboardInterrupt\u001b[0m                         Traceback (most recent call last)",
      "\u001b[0;32m<ipython-input-84-f72cdffe88bc>\u001b[0m in \u001b[0;36m<module>\u001b[0;34m\u001b[0m\n\u001b[1;32m      1\u001b[0m \u001b[0mmodel\u001b[0m \u001b[0;34m=\u001b[0m \u001b[0mCARE\u001b[0m\u001b[0;34m(\u001b[0m\u001b[0mconfig\u001b[0m\u001b[0;34m,\u001b[0m \u001b[0;34m'my_model'\u001b[0m\u001b[0;34m,\u001b[0m \u001b[0mbasedir\u001b[0m\u001b[0;34m=\u001b[0m\u001b[0;34m'models'\u001b[0m\u001b[0;34m)\u001b[0m\u001b[0;34m\u001b[0m\u001b[0;34m\u001b[0m\u001b[0m\n\u001b[0;32m----> 2\u001b[0;31m \u001b[0mhistory\u001b[0m \u001b[0;34m=\u001b[0m \u001b[0mmodel\u001b[0m\u001b[0;34m.\u001b[0m\u001b[0mtrain\u001b[0m\u001b[0;34m(\u001b[0m\u001b[0mX\u001b[0m\u001b[0;34m,\u001b[0m\u001b[0mY\u001b[0m\u001b[0;34m,\u001b[0m \u001b[0mvalidation_data\u001b[0m\u001b[0;34m=\u001b[0m\u001b[0;34m(\u001b[0m\u001b[0mX_val\u001b[0m\u001b[0;34m,\u001b[0m\u001b[0mY_val\u001b[0m\u001b[0;34m)\u001b[0m\u001b[0;34m)\u001b[0m\u001b[0;34m\u001b[0m\u001b[0;34m\u001b[0m\u001b[0m\n\u001b[0m",
      "\u001b[0;32m~/miniconda3/envs/py37/lib/python3.7/site-packages/csbdeep/models/care_standard.py\u001b[0m in \u001b[0;36mtrain\u001b[0;34m(self, X, Y, validation_data, epochs, steps_per_epoch)\u001b[0m\n\u001b[1;32m    175\u001b[0m         history = self.keras_model.fit_generator(generator=training_data, validation_data=validation_data,\n\u001b[1;32m    176\u001b[0m                                                  \u001b[0mepochs\u001b[0m\u001b[0;34m=\u001b[0m\u001b[0mepochs\u001b[0m\u001b[0;34m,\u001b[0m \u001b[0msteps_per_epoch\u001b[0m\u001b[0;34m=\u001b[0m\u001b[0msteps_per_epoch\u001b[0m\u001b[0;34m,\u001b[0m\u001b[0;34m\u001b[0m\u001b[0;34m\u001b[0m\u001b[0m\n\u001b[0;32m--> 177\u001b[0;31m                                                  callbacks=self.callbacks, verbose=1)\n\u001b[0m\u001b[1;32m    178\u001b[0m         \u001b[0mself\u001b[0m\u001b[0;34m.\u001b[0m\u001b[0m_training_finished\u001b[0m\u001b[0;34m(\u001b[0m\u001b[0;34m)\u001b[0m\u001b[0;34m\u001b[0m\u001b[0;34m\u001b[0m\u001b[0m\n\u001b[1;32m    179\u001b[0m \u001b[0;34m\u001b[0m\u001b[0m\n",
      "\u001b[0;32m~/miniconda3/envs/py37/lib/python3.7/site-packages/keras/legacy/interfaces.py\u001b[0m in \u001b[0;36mwrapper\u001b[0;34m(*args, **kwargs)\u001b[0m\n\u001b[1;32m     89\u001b[0m                 warnings.warn('Update your `' + object_name + '` call to the ' +\n\u001b[1;32m     90\u001b[0m                               'Keras 2 API: ' + signature, stacklevel=2)\n\u001b[0;32m---> 91\u001b[0;31m             \u001b[0;32mreturn\u001b[0m \u001b[0mfunc\u001b[0m\u001b[0;34m(\u001b[0m\u001b[0;34m*\u001b[0m\u001b[0margs\u001b[0m\u001b[0;34m,\u001b[0m \u001b[0;34m**\u001b[0m\u001b[0mkwargs\u001b[0m\u001b[0;34m)\u001b[0m\u001b[0;34m\u001b[0m\u001b[0;34m\u001b[0m\u001b[0m\n\u001b[0m\u001b[1;32m     92\u001b[0m         \u001b[0mwrapper\u001b[0m\u001b[0;34m.\u001b[0m\u001b[0m_original_function\u001b[0m \u001b[0;34m=\u001b[0m \u001b[0mfunc\u001b[0m\u001b[0;34m\u001b[0m\u001b[0;34m\u001b[0m\u001b[0m\n\u001b[1;32m     93\u001b[0m         \u001b[0;32mreturn\u001b[0m \u001b[0mwrapper\u001b[0m\u001b[0;34m\u001b[0m\u001b[0;34m\u001b[0m\u001b[0m\n",
      "\u001b[0;32m~/miniconda3/envs/py37/lib/python3.7/site-packages/keras/engine/training.py\u001b[0m in \u001b[0;36mfit_generator\u001b[0;34m(self, generator, steps_per_epoch, epochs, verbose, callbacks, validation_data, validation_steps, validation_freq, class_weight, max_queue_size, workers, use_multiprocessing, shuffle, initial_epoch)\u001b[0m\n\u001b[1;32m   1730\u001b[0m             \u001b[0muse_multiprocessing\u001b[0m\u001b[0;34m=\u001b[0m\u001b[0muse_multiprocessing\u001b[0m\u001b[0;34m,\u001b[0m\u001b[0;34m\u001b[0m\u001b[0;34m\u001b[0m\u001b[0m\n\u001b[1;32m   1731\u001b[0m             \u001b[0mshuffle\u001b[0m\u001b[0;34m=\u001b[0m\u001b[0mshuffle\u001b[0m\u001b[0;34m,\u001b[0m\u001b[0;34m\u001b[0m\u001b[0;34m\u001b[0m\u001b[0m\n\u001b[0;32m-> 1732\u001b[0;31m             initial_epoch=initial_epoch)\n\u001b[0m\u001b[1;32m   1733\u001b[0m \u001b[0;34m\u001b[0m\u001b[0m\n\u001b[1;32m   1734\u001b[0m     \u001b[0;34m@\u001b[0m\u001b[0minterfaces\u001b[0m\u001b[0;34m.\u001b[0m\u001b[0mlegacy_generator_methods_support\u001b[0m\u001b[0;34m\u001b[0m\u001b[0;34m\u001b[0m\u001b[0m\n",
      "\u001b[0;32m~/miniconda3/envs/py37/lib/python3.7/site-packages/keras/engine/training_generator.py\u001b[0m in \u001b[0;36mfit_generator\u001b[0;34m(model, generator, steps_per_epoch, epochs, verbose, callbacks, validation_data, validation_steps, validation_freq, class_weight, max_queue_size, workers, use_multiprocessing, shuffle, initial_epoch)\u001b[0m\n\u001b[1;32m    218\u001b[0m                                             \u001b[0msample_weight\u001b[0m\u001b[0;34m=\u001b[0m\u001b[0msample_weight\u001b[0m\u001b[0;34m,\u001b[0m\u001b[0;34m\u001b[0m\u001b[0;34m\u001b[0m\u001b[0m\n\u001b[1;32m    219\u001b[0m                                             \u001b[0mclass_weight\u001b[0m\u001b[0;34m=\u001b[0m\u001b[0mclass_weight\u001b[0m\u001b[0;34m,\u001b[0m\u001b[0;34m\u001b[0m\u001b[0;34m\u001b[0m\u001b[0m\n\u001b[0;32m--> 220\u001b[0;31m                                             reset_metrics=False)\n\u001b[0m\u001b[1;32m    221\u001b[0m \u001b[0;34m\u001b[0m\u001b[0m\n\u001b[1;32m    222\u001b[0m                 \u001b[0mouts\u001b[0m \u001b[0;34m=\u001b[0m \u001b[0mto_list\u001b[0m\u001b[0;34m(\u001b[0m\u001b[0mouts\u001b[0m\u001b[0;34m)\u001b[0m\u001b[0;34m\u001b[0m\u001b[0;34m\u001b[0m\u001b[0m\n",
      "\u001b[0;32m~/miniconda3/envs/py37/lib/python3.7/site-packages/keras/engine/training.py\u001b[0m in \u001b[0;36mtrain_on_batch\u001b[0;34m(self, x, y, sample_weight, class_weight, reset_metrics)\u001b[0m\n\u001b[1;32m   1512\u001b[0m             \u001b[0mins\u001b[0m \u001b[0;34m=\u001b[0m \u001b[0mx\u001b[0m \u001b[0;34m+\u001b[0m \u001b[0my\u001b[0m \u001b[0;34m+\u001b[0m \u001b[0msample_weights\u001b[0m\u001b[0;34m\u001b[0m\u001b[0;34m\u001b[0m\u001b[0m\n\u001b[1;32m   1513\u001b[0m         \u001b[0mself\u001b[0m\u001b[0;34m.\u001b[0m\u001b[0m_make_train_function\u001b[0m\u001b[0;34m(\u001b[0m\u001b[0;34m)\u001b[0m\u001b[0;34m\u001b[0m\u001b[0;34m\u001b[0m\u001b[0m\n\u001b[0;32m-> 1514\u001b[0;31m         \u001b[0moutputs\u001b[0m \u001b[0;34m=\u001b[0m \u001b[0mself\u001b[0m\u001b[0;34m.\u001b[0m\u001b[0mtrain_function\u001b[0m\u001b[0;34m(\u001b[0m\u001b[0mins\u001b[0m\u001b[0;34m)\u001b[0m\u001b[0;34m\u001b[0m\u001b[0;34m\u001b[0m\u001b[0m\n\u001b[0m\u001b[1;32m   1515\u001b[0m \u001b[0;34m\u001b[0m\u001b[0m\n\u001b[1;32m   1516\u001b[0m         \u001b[0;32mif\u001b[0m \u001b[0mreset_metrics\u001b[0m\u001b[0;34m:\u001b[0m\u001b[0;34m\u001b[0m\u001b[0;34m\u001b[0m\u001b[0m\n",
      "\u001b[0;32m~/miniconda3/envs/py37/lib/python3.7/site-packages/tensorflow/python/keras/backend.py\u001b[0m in \u001b[0;36m__call__\u001b[0;34m(self, inputs)\u001b[0m\n\u001b[1;32m   3074\u001b[0m \u001b[0;34m\u001b[0m\u001b[0m\n\u001b[1;32m   3075\u001b[0m     fetched = self._callable_fn(*array_vals,\n\u001b[0;32m-> 3076\u001b[0;31m                                 run_metadata=self.run_metadata)\n\u001b[0m\u001b[1;32m   3077\u001b[0m     \u001b[0mself\u001b[0m\u001b[0;34m.\u001b[0m\u001b[0m_call_fetch_callbacks\u001b[0m\u001b[0;34m(\u001b[0m\u001b[0mfetched\u001b[0m\u001b[0;34m[\u001b[0m\u001b[0;34m-\u001b[0m\u001b[0mlen\u001b[0m\u001b[0;34m(\u001b[0m\u001b[0mself\u001b[0m\u001b[0;34m.\u001b[0m\u001b[0m_fetches\u001b[0m\u001b[0;34m)\u001b[0m\u001b[0;34m:\u001b[0m\u001b[0;34m]\u001b[0m\u001b[0;34m)\u001b[0m\u001b[0;34m\u001b[0m\u001b[0;34m\u001b[0m\u001b[0m\n\u001b[1;32m   3078\u001b[0m     return nest.pack_sequence_as(self._outputs_structure,\n",
      "\u001b[0;32m~/miniconda3/envs/py37/lib/python3.7/site-packages/tensorflow/python/client/session.py\u001b[0m in \u001b[0;36m__call__\u001b[0;34m(self, *args, **kwargs)\u001b[0m\n\u001b[1;32m   1437\u001b[0m           ret = tf_session.TF_SessionRunCallable(\n\u001b[1;32m   1438\u001b[0m               \u001b[0mself\u001b[0m\u001b[0;34m.\u001b[0m\u001b[0m_session\u001b[0m\u001b[0;34m.\u001b[0m\u001b[0m_session\u001b[0m\u001b[0;34m,\u001b[0m \u001b[0mself\u001b[0m\u001b[0;34m.\u001b[0m\u001b[0m_handle\u001b[0m\u001b[0;34m,\u001b[0m \u001b[0margs\u001b[0m\u001b[0;34m,\u001b[0m \u001b[0mstatus\u001b[0m\u001b[0;34m,\u001b[0m\u001b[0;34m\u001b[0m\u001b[0;34m\u001b[0m\u001b[0m\n\u001b[0;32m-> 1439\u001b[0;31m               run_metadata_ptr)\n\u001b[0m\u001b[1;32m   1440\u001b[0m         \u001b[0;32mif\u001b[0m \u001b[0mrun_metadata\u001b[0m\u001b[0;34m:\u001b[0m\u001b[0;34m\u001b[0m\u001b[0;34m\u001b[0m\u001b[0m\n\u001b[1;32m   1441\u001b[0m           \u001b[0mproto_data\u001b[0m \u001b[0;34m=\u001b[0m \u001b[0mtf_session\u001b[0m\u001b[0;34m.\u001b[0m\u001b[0mTF_GetBuffer\u001b[0m\u001b[0;34m(\u001b[0m\u001b[0mrun_metadata_ptr\u001b[0m\u001b[0;34m)\u001b[0m\u001b[0;34m\u001b[0m\u001b[0;34m\u001b[0m\u001b[0m\n",
      "\u001b[0;31mKeyboardInterrupt\u001b[0m: "
     ]
    }
   ],
   "source": [
    "model = CARE(config, 'my_model', basedir='models')\n",
    "history = model.train(X,Y, validation_data=(X_val,Y_val))"
   ]
  },
  {
   "cell_type": "markdown",
   "metadata": {},
   "source": [
    "# Conclusions\n",
    "\n",
    "- Matrix RL algorithm is functional and can work with spatially varying point spread functions\n",
    "- Need to generate a method for harvest H from experimental data, i.e. impute $\\mathbf{H}'s missing rows\n",
    "- Matrix imputation is not designed for filling in entire rows\n",
    "- Simple machine learning algorithms fail to converge\n",
    "- Conv nets converge but cheat\n",
    "- Training data here may be faulty anyway so need to regenerate that correctly"
   ]
  },
  {
   "cell_type": "markdown",
   "metadata": {},
   "source": [
    "## Addendum\n",
    "\n",
    "You can also consider the case of using multiple $\\mathbf{f}_n$ images and respective $\\mathbf{H_n}$ measurement matrices.\n",
    "\n",
    "By concantenating H to be a vector of $\\mathbf{H}_n$s you'll see that the LHS requires multiple $\\mathbf{f}_n$s in but for still a single $\\mathbf{g}$ structure:\n",
    "\n",
    "\\begin{align*}\n",
    "\\left(\\begin{array}{c}\n",
    "\\left[\\mathbf{f}_{1}\\right] \\\\ \\left[\\mathbf{f}_{2}\\right] \\\\\n",
    "\\end{array}\\right) &=\\left(\\begin{array}{cc}\n",
    "\\left[\\mathbf{H}_{1}\\right] & \\left[\\mathbf{H}_{2}\\right]\n",
    "\\end{array}\\right) \\mathbf{g}\n",
    "\\end{align*}\n",
    "\n",
    "this means we can infant **fuse** images of complimentary strengths (as in *SIM* and *Lightfield*)."
   ]
  },
  {
   "cell_type": "code",
   "execution_count": null,
   "metadata": {
    "jupyter": {
     "source_hidden": true
    }
   },
   "outputs": [],
   "source": [
    "# history = model.train(X,Y, validation_data=(X_val,Y_val))\n",
    "\n",
    "\n",
    "\n",
    "    #\n",
    "# coords = np.unravel_index(i, astro.shape)\n",
    "#\n",
    "# # plt.imshow()\n",
    "# y_predict = model.predict(x)\n",
    "# for i in np.arange(N_v):\n",
    "#     y_predict_current = y_predict[i, :].reshape((10, 10))\n",
    "#     plt.imsave(\n",
    "#         f'./output/predict_psf/{str(i).zfill(6)}.png', y_predict_current)\n",
    "# # plt.imsave(,)\n",
    "#\n",
    "# # np.nansum(np.sqrt(y_predict**2-y**2))\n",
    "#\n",
    "# # plt.imshow(a.reshape((10,10)))\n",
    "#\n",
    "# plt.imshow(measurement_matrix_3d[:, :, ].reshape((10, 10)))\n",
    "# samples = measurement_matrix_3d_nuked.shape[2]\n",
    "#\n",
    "# model = keras_model_fc()\n",
    "# # for classifier in classifiers:\n",
    "# # print(classifier)\n",
    "# classifier = classifiers[1]\n",
    "#\n",
    "# name = classifier.__module__\n",
    "# print(f'{name}')\n",
    "# classifier.fit(x_indices_clean_scaled, y_values_clean_scaled)\n",
    "# y_values_predict_scaled = classifier.predict(x_indices_scaled)\n",
    "#\n",
    "# score = classifier.score(x_indices_scaled, y_ground_truth_scaled)\n",
    "# mse = metrics.mean_squared_error(\n",
    "#     y_ground_truth_scaled, y_values_predict_scaled)\n",
    "# r2 = metrics.r2_score(y_ground_truth_scaled, y_values_predict_scaled)\n",
    "# # classifier.score()\n",
    "# correlation, p_value = pearsonr(\n",
    "#     y_ground_truth_scaled.flatten(), y_values_predict_scaled.flatten())\n",
    "# print(\n",
    "#     f'Correlation: {correlation:.5f} | MSE:{mse:.5f} |  R2:{r2:.5f}  | Score:{score:.5f}')\n",
    "# # plt.scatter(y_ground_truth_scaled,y_values_predict_scaled)\n",
    "# # from sklearn.neural_network import MLPClassifier\n",
    "# kfold = model_selection.KFold(n_splits=10)\n",
    "# results = model_selection.cross_val_score(classifier,\n",
    "#                                           x_indices_clean_scaled,\n",
    "#                                           y_values_clean_scaled,\n",
    "#                                           cv=kfold)\n",
    "#\n",
    "#\n",
    "# estimators = []\n",
    "# estimators.append(('standardize', preprocessing.StandardScaler()))\n",
    "# estimators.append(('model', classifiers[1]))\n",
    "# pipeline = pipeline.Pipeline(estimators)\n",
    "#\n",
    "# results = model_selection.cross_val_score(pipeline,\n",
    "#                                           X_indices_clean,\n",
    "#                                           y_values_clean,\n",
    "#                                           cv=kfold)\n",
    "#\n",
    "# print(\"Standardized: %.2f (%.2f) MSE\" % (results.mean(), results.std()))\n",
    "#\n",
    "# # %% Begin RL matrix deconvolvution\n",
    "# print(\"Build measurement matrix.\")\n",
    "# #\n",
    "# # x0 = None\n",
    "# # Rtol = 1e-6\n",
    "# # NE_Rtol = 1e-6\n",
    "# # max_iter = 100\n",
    "# # sigmaSq = 0.0\n",
    "# # beta = 0.0\n",
    "#\n",
    "# measurement_matrix_LO = scipy.sparse.linalg.aslinearoperator(\n",
    "#     measurement_matrix)\n",
    "# input_vector = astro_noisy_vector\n",
    "#\n",
    "# # Raw RL, no imputation\n",
    "# FLAG_RAW = 0\n",
    "# if(FLAG_RAW):\n",
    "#     astro_rl_flat = richardson_lucy.matrix_reconstruction(\n",
    "#         scipy.sparse.linalg.aslinearoperator(measurement_matrix),\n",
    "#         input_vector, max_iter=30)\n",
    "#     # astro_rl = astro\n",
    "#     astro_rl = np.reshape(np.array(astro_rl_flat), astro_blur.shape)\n",
    "#\n",
    "#     fig, ax = plt.subplots(1, 3, figsize=[6.4 * 2, 4.8 * 2])\n",
    "#\n",
    "#     ax[0].imshow(astro)\n",
    "#     ax[0].title.set_text(\"Raw\")\n",
    "#\n",
    "#     ax[1].imshow(astro_noisy)\n",
    "#     ax[1].title.set_text(\"Corrupted\")\n",
    "#\n",
    "#     ax[2].imshow(astro_rl)\n",
    "#     ax[2].title.set_text(\"Recovered\")\n",
    "#\n",
    "#\n",
    "# # %% Matrix nuking\n",
    "#\n",
    "# # H_df = pd.DataFrame(measurement_matrix)\n",
    "#\n",
    "#\n",
    "#\n",
    "#\n",
    "# ######\n",
    "# FLAG_IMPUTE = 0\n",
    "# if(FLAG_IMPUTE):\n",
    "#     from sklearn.linear_model import BayesianRidge\n",
    "#     # %% Matrix impute\n",
    "#\n",
    "#     imp = IterativeImputer(missing_values=np.NaN,\n",
    "#                            verbose=2, estimator=BayesianRidge())\n",
    "#     imp.fit(measurement_matrix_3d_nuked)\n",
    "#     H_fixed = imp.transform(measurement_matrix_3d_nuked)\n",
    "#\n",
    "#     error = measurement_matrix - H_fixed\n",
    "#     sum_error = np.sum(np.sum(error))\n",
    "#     sum_error\n",
    "#     # plt.show()\n",
    "#     plt.savefig(\"output/H_fixed.png\")\n",
    "#     plt.imshow(H_fixed)"
   ]
  }
 ],
 "metadata": {
  "kernelspec": {
   "display_name": "Python [conda env:py37]",
   "language": "python",
   "name": "conda-env-py37-py"
  },
  "language_info": {
   "codemirror_mode": {
    "name": "ipython",
    "version": 3
   },
   "file_extension": ".py",
   "mimetype": "text/x-python",
   "name": "python",
   "nbconvert_exporter": "python",
   "pygments_lexer": "ipython3",
   "version": "3.7.6"
  }
 },
 "nbformat": 4,
 "nbformat_minor": 4
}
