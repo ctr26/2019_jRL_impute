{
 "cells": [
  {
   "cell_type": "code",
   "execution_count": null,
   "metadata": {},
   "outputs": [],
   "source": [
    "from sklearn import neural_network, metrics, gaussian_process, preprocessing, svm, neighbors\n",
    "from sklearn import pipeline, model_selection\n",
    "from keras import metrics\n",
    "from keras import backend as K\n",
    "from scipy.stats import pearsonr\n",
    "from sklearn import svm, linear_model\n",
    "import numpy as np\n",
    "import matplotlib.pyplot as plt\n",
    "# import microscPSF.microscPSF as msPSF\n",
    "import PIL\n",
    "import scipy\n",
    "\n",
    "from scipy import matrix\n",
    "from scipy.sparse import coo_matrix\n",
    "import time\n",
    "from scipy import linalg\n",
    "from skimage import color, data, restoration\n",
    "from skimage.transform import rescale, resize, downscale_local_mean\n",
    "from scipy.signal import convolve2d as conv2\n",
    "# import matlab.engine\n",
    "import pandas as pd\n",
    "\n",
    "import keras\n",
    "from keras.models import Sequential\n",
    "from keras.wrappers.scikit_learn import KerasRegressor\n",
    "from keras.layers import Dense, Dropout, Activation, Convolution1D, Flatten, Conv1D, UpSampling1D, InputLayer, UpSampling2D, Conv2D, Reshape, Input\n",
    "from keras.optimizers import SGD\n",
    "from keras.utils import to_categorical\n",
    "\n",
    "# from sklearn.preprocessing import Imputer\n",
    "from sklearn.experimental import enable_iterative_imputer\n",
    "from sklearn.impute import IterativeImputer\n",
    "# from sklearn.experimental import enable_iterative_imputer\n",
    "from scipy import signal\n",
    "from sklearn.impute import SimpleImputer\n",
    "\n",
    "import os"
   ]
  },
  {
   "cell_type": "code",
   "execution_count": null,
   "metadata": {},
   "outputs": [],
   "source": [
    "# %% Creating the test card image\n",
    "\n",
    "scale = 4.0\n",
    "psf_w = 16\n",
    "psf_h = 16\n",
    "# scale = 1.0\n",
    "# int(12/scale)\n",
    "static_psf = np.ones((int(12 / scale), int(12 / scale))) / \\\n",
    "    int(12 / scale)**2  # Boxcar\n",
    "\n",
    "\n",
    "def psf_guass(w=psf_w, h=psf_h, sigma=3):\n",
    "    # blank_psf = np.zeros((w,h))\n",
    "    def gaussian(x, mu, sig):\n",
    "        return np.exp(-np.power(x - mu, 2.) / (2 * np.power(sig, 2.)))\n",
    "\n",
    "    xx, yy = np.meshgrid(np.linspace(-1, 1, w), np.linspace(-1, 1, h))\n",
    "    return gaussian(xx, 0, sigma) * gaussian(yy, 0, sigma)\n",
    "\n",
    "\n",
    "static_psf = psf_guass(w=psf_w, h=psf_h, sigma=1 / 5)\n",
    "plt.imshow(static_psf)\n",
    "\n",
    "\n",
    "astro = rescale(color.rgb2gray(data.astronaut()), 1.0 / scale)\n",
    "# astro_blur = rescale(astro_blur, 1.0 / 4)\n",
    "astro_blur = conv2(astro, static_psf, 'same')\n",
    "\n",
    "# Add Noise to Image\n",
    "astro_noisy = astro_blur.copy()\n",
    "astro_noisy += (np.random.poisson(lam=25, size=astro_blur.shape) - psf_w) / 255.\n",
    "# astro_blur\n",
    "# deconvolved_RL = restoration.richardson_lucy(astro_blur, psf, iterations=100)\n",
    "astro_blur = astro_noisy\n",
    "plt.imshow(astro_noisy)\n",
    "plt.imshow(static_psf)\n",
    "\n",
    "# plt.imshow(deconvolved_RL)"
   ]
  },
  {
   "cell_type": "code",
   "execution_count": 6,
   "metadata": {},
   "outputs": [
    {
     "name": "stdout",
     "output_type": "stream",
     "text": [
      "Build measurement matrix.\n"
     ]
    },
    {
     "data": {
      "text/plain": [
       "<matplotlib.image.AxesImage at 0x2b545572ae10>"
      ]
     },
     "execution_count": 6,
     "metadata": {},
     "output_type": "execute_result"
    },
    {
     "data": {
      "image/png": "[encoded data removed]",
      "text/plain": [
       "<Figure size 432x288 with 1 Axes>"
      ]
     },
     "metadata": {
      "needs_background": "light"
     },
     "output_type": "display_data"
    }
   ],
   "source": [
    "# %% Build measurement matrix.\n",
    "print(\"Build measurement matrix.\")\n",
    "# s H = [h_i,j] each row is a line of PSF centered on x,y filled with zeros\n",
    "\n",
    "N_v = np.ma.size(astro);N_v\n",
    "N_p = np.ma.size(astro_blur);N_p\n",
    "measurement_matrix = matrix(np.zeros((N_p, N_v)))\n",
    "\n",
    "zero_image = np.zeros_like(astro)\n",
    "astro_shape = astro.shape\n",
    "\n",
    "x_astro, y_astro = astro_blur.shape\n",
    "xx_astro, yy_astro = np.meshgrid(np.linspace(-1, 1, x_astro),\n",
    "                                    np.linspace(-1, 1, y_astro))\n",
    "psf_window_w, psf_window_h = (psf_w, psf_h)\n",
    "psf_window_volume = np.full((psf_window_w, psf_window_h, N_v), np.NaN)\n",
    "\n",
    "illumination = np.cos(64 / 2 * np.pi * xx_astro)\n",
    "\n",
    "def sigma_scale(r_dist):\n",
    "    return (r_dist + 0.01) * 3\n",
    "\n",
    "plt.imshow(psf_guass(w=psf_window_w,\n",
    "                     h=psf_window_h,\n",
    "                     sigma=sigma_scale(1)))\n",
    "\n",
    "r_map = np.sqrt(xx_astro**2 + yy_astro**2)\n",
    "\n",
    "psf_current = psf_guass(w=psf_window_w,\n",
    "                        h=psf_window_h,\n",
    "                        sigma=sigma_scale(r_map.max().max()))\n",
    "plt.imshow(psf_current)"
   ]
  },
  {
   "cell_type": "code",
   "execution_count": 2,
   "metadata": {},
   "outputs": [
    {
     "ename": "NameError",
     "evalue": "name 'np' is not defined",
     "output_type": "error",
     "traceback": [
      "\u001b[0;31m---------------------------------------------------------------------------\u001b[0m",
      "\u001b[0;31mNameError\u001b[0m                                 Traceback (most recent call last)",
      "\u001b[0;32m<ipython-input-2-eec63601bef9>\u001b[0m in \u001b[0;36m<module>\u001b[0;34m\u001b[0m\n\u001b[0;32m----> 1\u001b[0;31m \u001b[0mr_dist\u001b[0m \u001b[0;34m=\u001b[0m \u001b[0mnp\u001b[0m\u001b[0;34m.\u001b[0m\u001b[0mempty\u001b[0m\u001b[0;34m(\u001b[0m\u001b[0mN_v\u001b[0m\u001b[0;34m)\u001b[0m\u001b[0;34m\u001b[0m\u001b[0;34m\u001b[0m\u001b[0m\n\u001b[0m\u001b[1;32m      2\u001b[0m \u001b[0msigma\u001b[0m \u001b[0;34m=\u001b[0m \u001b[0mnp\u001b[0m\u001b[0;34m.\u001b[0m\u001b[0mempty\u001b[0m\u001b[0;34m(\u001b[0m\u001b[0mN_v\u001b[0m\u001b[0;34m)\u001b[0m\u001b[0;34m\u001b[0m\u001b[0;34m\u001b[0m\u001b[0m\n\u001b[1;32m      3\u001b[0m \u001b[0mpsf_window_volume\u001b[0m \u001b[0;34m=\u001b[0m \u001b[0mnp\u001b[0m\u001b[0;34m.\u001b[0m\u001b[0mempty\u001b[0m\u001b[0;34m(\u001b[0m\u001b[0;34m(\u001b[0m\u001b[0mN_v\u001b[0m\u001b[0;34m,\u001b[0m\u001b[0mpsf_w\u001b[0m\u001b[0;34m,\u001b[0m \u001b[0mpsf_h\u001b[0m\u001b[0;34m)\u001b[0m\u001b[0;34m)\u001b[0m\u001b[0;34m\u001b[0m\u001b[0;34m\u001b[0m\u001b[0m\n\u001b[1;32m      4\u001b[0m \u001b[0;34m\u001b[0m\u001b[0m\n\u001b[1;32m      5\u001b[0m \u001b[0mplt\u001b[0m\u001b[0;34m.\u001b[0m\u001b[0mimshow\u001b[0m\u001b[0;34m(\u001b[0m\u001b[0mr_map\u001b[0m\u001b[0;34m)\u001b[0m\u001b[0;34m\u001b[0m\u001b[0;34m\u001b[0m\u001b[0m\n",
      "\u001b[0;31mNameError\u001b[0m: name 'np' is not defined"
     ]
    }
   ],
   "source": [
    "r_dist = np.empty(N_v)\n",
    "sigma = np.empty(N_v)\n",
    "psf_window_volume = np.empty((N_v,psf_w, psf_h))\n",
    "\n",
    "plt.imshow(r_map)\n",
    "plt.imshow(illumination)\n",
    "# for i in np.arange(N_v):\n",
    "#     coords = np.unravel_index(i,astro.shape)\n",
    "#     print(r_map[coords])"
   ]
  },
  {
   "cell_type": "code",
   "execution_count": 8,
   "metadata": {},
   "outputs": [],
   "source": [
    "for i in np.arange(N_v):\n",
    "    coords = np.unravel_index(i, astro.shape)\n",
    "    r_dist = r_map[coords]\n",
    "    sigma = sigma_scale(r_map[coords])\n",
    "    psf_current = psf_guass(w=psf_window_w,\n",
    "                            h=psf_window_h,\n",
    "                            sigma=sigma * illumination[coords])\n",
    "    psf_current = psf_guass(w=psf_window_w,\n",
    "                            h=psf_window_h,\n",
    "                            sigma=sigma)\n",
    "    # psf_current = psf_guass(w=psf_window_w,\n",
    "    #                         h=psf_window_h,\n",
    "    #                         sigma=sigma[i])\n",
    "    psf_window_volume[i, :, :] = psf_current\n",
    "    delta_image = np.zeros_like(astro)\n",
    "    delta_image[np.unravel_index(i, astro_shape)] = 1\n",
    "    delta_PSF = scipy.ndimage.convolve(delta_image, psf_current)\n",
    "    measurement_matrix[i, :] = delta_PSF.flatten()\n",
    "    # plt.imshow(psf_current)\n",
    "    # plt.imsave(f'./output/psfs/{str(i).zfill(6)}.png',psf_window_volume[:,:,i])\n",
    "#     plt.show()\n",
    "# pd.DataFrame(measurement_matrix)\n",
    "astro_noisy_vector = np.matrix(astro_noisy.flatten()).transpose()\n",
    "# plt.imshow(measurement_matrix)\n",
    "# plt.show()\n",
    "# plt.imshow(static_psf)"
   ]
  },
  {
   "cell_type": "code",
   "execution_count": null,
   "metadata": {},
   "outputs": [],
   "source": [
    "# %% Begin RL matrix deconvolvution - Nuke beads\n",
    "\n",
    "print(\"Nuke rows and backup files\")\n",
    "\n",
    "beads = 1000\n",
    "\n",
    "\n",
    "rows_to_nuke = np.random.choice(\n",
    "    np.arange(measurement_matrix.shape[0]), measurement_matrix.shape[0] - beads,replace=False)\n",
    "rows_to_nuke\n",
    "# rows_to_nuke\n",
    "psf_window_volume_nuked = psf_window_volume.copy()\n",
    "psf_window_volume_nuked[rows_to_nuke,:, :] = np.NaN\n",
    "\n",
    "# plt.imshow(np.reshape(psf_window_volume_nuked,(128*128,10*10)))\n",
    "\n",
    "H_nuked = measurement_matrix.copy()\n",
    "H_nuked[rows_to_nuke,:] = np.NaN\n",
    "# H_nuked.shape\n",
    "# np.sum(np.isfinite(H_nuked[:,0]))\n",
    "# plt.imshow(H_nuked)\n",
    "# plt.imshow(measurement_matrix)\n",
    "plt.imsave('./output/H_nuked.png', H_nuked)\n",
    "\n",
    "image_width,image_height = np.sqrt(measurement_matrix.shape).astype(np.int)\n",
    "array_size_4d = [image_width,\n",
    "                image_height,\n",
    "                image_width,\n",
    "                image_height]\n",
    "\n",
    "measurement_matrix_4d_nuked = np.reshape(np.array(H_nuked),array_size_4d)\n",
    "measurement_matrix_4d = np.reshape(np.array(measurement_matrix),array_size_4d)"
   ]
  },
  {
   "cell_type": "code",
   "execution_count": 12,
   "metadata": {},
   "outputs": [],
   "source": [
    "np.save('./data/measurement_matrix_4d_nuked',measurement_matrix_4d_nuked)\n",
    "np.save('./data/measurement_matrix_4d',measurement_matrix_4d)\n",
    "\n",
    "np.save('./data/psf_window_volume_nuked',psf_window_volume_nuked)\n",
    "np.save('./data/psf_window_volume',psf_window_volume)\n",
    "# psf_window_volume_nuked.shape"
   ]
  },
  {
   "cell_type": "code",
   "execution_count": null,
   "metadata": {},
   "outputs": [],
   "source": []
  },
  {
   "cell_type": "code",
   "execution_count": null,
   "metadata": {},
   "outputs": [],
   "source": []
  }
 ],
 "metadata": {
  "kernelspec": {
   "display_name": "Python [conda env:py37]",
   "language": "python",
   "name": "conda-env-py37-py"
  },
  "language_info": {
   "codemirror_mode": {
    "name": "ipython",
    "version": 3
   },
   "file_extension": ".py",
   "mimetype": "text/x-python",
   "name": "python",
   "nbconvert_exporter": "python",
   "pygments_lexer": "ipython3",
   "version": "3.7.6"
  }
 },
 "nbformat": 4,
 "nbformat_minor": 4
}
