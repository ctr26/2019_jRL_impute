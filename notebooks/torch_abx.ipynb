{
 "metadata": {
  "language_info": {
   "codemirror_mode": {
    "name": "ipython",
    "version": 3
   },
   "file_extension": ".py",
   "mimetype": "text/x-python",
   "name": "python",
   "nbconvert_exporter": "python",
   "pygments_lexer": "ipython3",
   "version": "3.8.5-final"
  },
  "orig_nbformat": 2,
  "kernelspec": {
   "name": "py37",
   "display_name": "py37"
  }
 },
 "nbformat": 4,
 "nbformat_minor": 2,
 "cells": [
  {
   "cell_type": "code",
   "execution_count": 1,
   "metadata": {
    "tags": []
   },
   "outputs": [
    {
     "output_type": "stream",
     "name": "stdout",
     "text": "Loss before: tensor(0.5044, grad_fn=<NormBackward0>)\nLoss is tensor(0.5044, grad_fn=<NormBackward0>) at iteration 0\nIt took 5002 iterations to achieve 0.0033333333333333335 loss.\nLoss after: tensor(0.0099, grad_fn=<NormBackward0>)\n"
    }
   ],
   "source": [
    "import torch\n",
    "dim = 2\n",
    "A = torch.rand(dim, dim, requires_grad=False)\n",
    "b = torch.rand(dim, 1,  requires_grad=False)\n",
    "x = torch.autograd.Variable(torch.rand(dim, 1), requires_grad=True)\n",
    "stop_loss = 1e-2\n",
    "step_size = stop_loss / 3.0\n",
    "print('Loss before: %s' % (torch.norm(torch.matmul(A, x) - b)))\n",
    "for i in range(1000*1000):\n",
    "    Δ = torch.matmul(A, x) - b\n",
    "    L = torch.norm(Δ, p=2)\n",
    "    L.backward()\n",
    "    x.data -= step_size * x.grad.data # step\n",
    "    x.grad.data.zero_()\n",
    "    if i % 10000 == 0: print('Loss is %s at iteration %i' % (L, i))\n",
    "    if abs(L) < stop_loss:\n",
    "        print('It took %s iterations to achieve %s loss.' % (i, step_size))\n",
    "        break\n",
    "print('Loss after: %s' % (torch.norm(torch.matmul(A, x) - b)))"
   ]
  },
  {
   "cell_type": "code",
   "execution_count": null,
   "metadata": {},
   "outputs": [],
   "source": []
  }
 ]
}